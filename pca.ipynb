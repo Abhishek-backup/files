{
 "cells": [
  {
   "cell_type": "markdown",
   "metadata": {},
   "source": [
    "### Data import and preparation"
   ]
  },
  {
   "cell_type": "code",
   "execution_count": 2,
   "metadata": {},
   "outputs": [],
   "source": [
    "import sklearn\n",
    "from sklearn.decomposition import PCA\n",
    "import pandas as pd\n",
    "import numpy as np\n",
    "#load data and merge both tables to one, ignore_index to reindex\n",
    "wine = pd.read_csv('winequality-red(1).csv')"
   ]
  },
  {
   "cell_type": "code",
   "execution_count": 3,
   "metadata": {
    "scrolled": false
   },
   "outputs": [
    {
     "name": "stdout",
     "output_type": "stream",
     "text": [
      "Principal Components PC:\n",
      "[[-6.13296554e-03  3.84670318e-04  1.70762384e-04  8.64864277e-03\n",
      "   6.37476516e-05  2.18852809e-01  9.75669835e-01  3.72590009e-06\n",
      "  -2.67974074e-04  2.23244233e-04 -6.35985376e-03 -4.31953676e-03]]\n",
      "Percent of Variance each PC accounts for:\n",
      "[9.46079514e-01 4.83483474e-02 2.59599087e-03 1.52288677e-03\n",
      " 1.04910404e-03 3.34987986e-04 3.10082440e-05 1.93440109e-05\n",
      " 9.43889374e-06 8.17881393e-06 1.19899823e-06 4.68306222e-10]\n"
     ]
    }
   ],
   "source": [
    "pca = PCA()\n",
    "pca.fit(wine)\n",
    "print(\"Principal Components PC:\")\n",
    "print(pca.components_[:1]) \n",
    "print(\"Percent of Variance each PC accounts for:\")\n",
    "print(pca.explained_variance_ratio_) \n",
    "\n",
    "\n",
    "\n"
   ]
  },
  {
   "cell_type": "code",
   "execution_count": 75,
   "metadata": {},
   "outputs": [
    {
     "name": "stdout",
     "output_type": "stream",
     "text": [
      "[[-6.13296554e-03  3.84670318e-04  1.70762384e-04  8.64864277e-03\n",
      "   6.37476516e-05  2.18852809e-01  9.75669835e-01  3.72590009e-06\n",
      "  -2.67974074e-04  2.23244233e-04 -6.35985376e-03 -4.31953676e-03]\n",
      " [-2.38646792e-02 -2.02021707e-03 -3.02675912e-03  1.11453593e-02\n",
      "  -2.37525597e-04  9.75212313e-01 -2.18850408e-01 -2.50439091e-05\n",
      "   3.26939011e-03  6.25945868e-04  1.46377527e-02  1.15350784e-02]\n",
      " [ 9.51200639e-01 -2.62402333e-02  7.42538455e-02  2.81876995e-01\n",
      "   2.80220910e-03  1.99910682e-02 -9.82959404e-04  7.64213504e-04\n",
      "  -5.84500955e-02  1.82329377e-02 -3.65813011e-02  6.37528799e-02]\n",
      " [-2.69339189e-01  4.60102384e-03 -8.47513677e-03  9.31286622e-01\n",
      "  -1.05332218e-03 -2.23601147e-02 -3.08989163e-03  1.69393411e-05\n",
      "   2.11467777e-02 -5.50574423e-03  2.31642587e-01  7.36356689e-02]]\n"
     ]
    }
   ],
   "source": [
    "# see https://stackoverflow.com/questions/23294616/how-to-use-scikit-learn-pca-for-features-reduction-and-know-which-features-are-d\n",
    "pca = PCA(n_components=4)\n",
    "pca.fit(wine)\n",
    "print(pca.components_)"
   ]
  },
  {
   "cell_type": "code",
   "execution_count": 72,
   "metadata": {
    "scrolled": true
   },
   "outputs": [
    {
     "name": "stdout",
     "output_type": "stream",
     "text": [
      "        0     1     2     3     4     5     6     7     8     9     10    11\n",
      "mean  0.77 -0.41 -0.36  0.75 -0.44  0.71  0.67 -0.44 -0.36 -0.42 -0.16 -0.30\n",
      "std   1.66  0.05  0.11  1.63  0.06  1.73  1.77  0.07  0.07  0.05  0.37  0.07\n",
      "min  -0.35 -0.49 -0.48 -0.35 -0.51 -0.42 -0.50 -0.51 -0.43 -0.49 -0.35 -0.36\n",
      "max   3.18 -0.38 -0.21  3.11 -0.38  3.24  3.23 -0.38 -0.27 -0.38  0.39 -0.22\n"
     ]
    }
   ],
   "source": [
    "# first take absolute values and then normalize this data to get a better overview\n",
    "comp1 = sklearn.preprocessing.scale(np.absolute(pca.components_[0]))\n",
    "comp2 = sklearn.preprocessing.scale(np.absolute(pca.components_[1]))\n",
    "comp3 = sklearn.preprocessing.scale(np.absolute(pca.components_[2]))\n",
    "comp4 = sklearn.preprocessing.scale(np.absolute(pca.components_[3]))\n",
    "\n",
    "df = pandas.DataFrame([comp1,comp2, comp3, comp4])\n",
    "print(df.describe().drop(['count', '25%', '50%', '75%']).round(2))"
   ]
  },
  {
   "cell_type": "markdown",
   "metadata": {},
   "source": [
    "It can therefore be argued, that the components 4, 7 and 10 can be dropped (index begins at 0). A look at the head of the data shows us which feature those represent:"
   ]
  },
  {
   "cell_type": "code",
   "execution_count": 76,
   "metadata": {},
   "outputs": [
    {
     "data": {
      "text/html": [
       "<div>\n",
       "<style scoped>\n",
       "    .dataframe tbody tr th:only-of-type {\n",
       "        vertical-align: middle;\n",
       "    }\n",
       "\n",
       "    .dataframe tbody tr th {\n",
       "        vertical-align: top;\n",
       "    }\n",
       "\n",
       "    .dataframe thead th {\n",
       "        text-align: right;\n",
       "    }\n",
       "</style>\n",
       "<table border=\"1\" class=\"dataframe\">\n",
       "  <thead>\n",
       "    <tr style=\"text-align: right;\">\n",
       "      <th></th>\n",
       "      <th>fixed acidity</th>\n",
       "      <th>volatile acidity</th>\n",
       "      <th>citric acid</th>\n",
       "      <th>residual sugar</th>\n",
       "      <th>chlorides</th>\n",
       "      <th>free sulfur dioxide</th>\n",
       "      <th>total sulfur dioxide</th>\n",
       "      <th>density</th>\n",
       "      <th>pH</th>\n",
       "      <th>sulphates</th>\n",
       "      <th>alcohol</th>\n",
       "      <th>quality</th>\n",
       "    </tr>\n",
       "  </thead>\n",
       "  <tbody>\n",
       "    <tr>\n",
       "      <th>0</th>\n",
       "      <td>7.4</td>\n",
       "      <td>0.7</td>\n",
       "      <td>0.0</td>\n",
       "      <td>1.9</td>\n",
       "      <td>0.076</td>\n",
       "      <td>11.0</td>\n",
       "      <td>34.0</td>\n",
       "      <td>0.9978</td>\n",
       "      <td>3.51</td>\n",
       "      <td>0.56</td>\n",
       "      <td>9.4</td>\n",
       "      <td>5</td>\n",
       "    </tr>\n",
       "  </tbody>\n",
       "</table>\n",
       "</div>"
      ],
      "text/plain": [
       "   fixed acidity  volatile acidity  citric acid  residual sugar  chlorides  \\\n",
       "0            7.4               0.7          0.0             1.9      0.076   \n",
       "\n",
       "   free sulfur dioxide  total sulfur dioxide  density    pH  sulphates  \\\n",
       "0                 11.0                  34.0   0.9978  3.51       0.56   \n",
       "\n",
       "   alcohol  quality  \n",
       "0      9.4        5  "
      ]
     },
     "execution_count": 76,
     "metadata": {},
     "output_type": "execute_result"
    }
   ],
   "source": [
    "wine.head(1)"
   ]
  },
  {
   "cell_type": "code",
   "execution_count": 77,
   "metadata": {},
   "outputs": [
    {
     "name": "stdout",
     "output_type": "stream",
     "text": [
      "[[6.13296554e-03 3.84670318e-04 1.70762384e-04 8.64864277e-03\n",
      "  6.37476516e-05 2.18852809e-01 9.75669835e-01 3.72590009e-06\n",
      "  2.67974074e-04 2.23244233e-04 6.35985376e-03 4.31953676e-03]\n",
      " [2.38646792e-02 2.02021707e-03 3.02675912e-03 1.11453593e-02\n",
      "  2.37525597e-04 9.75212313e-01 2.18850408e-01 2.50439091e-05\n",
      "  3.26939011e-03 6.25945868e-04 1.46377527e-02 1.15350784e-02]\n",
      " [9.51200639e-01 2.62402333e-02 7.42538455e-02 2.81876995e-01\n",
      "  2.80220910e-03 1.99910682e-02 9.82959404e-04 7.64213504e-04\n",
      "  5.84500955e-02 1.82329377e-02 3.65813011e-02 6.37528799e-02]\n",
      " [2.69339189e-01 4.60102384e-03 8.47513677e-03 9.31286622e-01\n",
      "  1.05332218e-03 2.23601147e-02 3.08989163e-03 1.69393411e-05\n",
      "  2.11467777e-02 5.50574423e-03 2.31642587e-01 7.36356689e-02]]\n"
     ]
    }
   ],
   "source": [
    "print(abs( pca.components_ ))"
   ]
  },
  {
   "cell_type": "code",
   "execution_count": 78,
   "metadata": {},
   "outputs": [],
   "source": [
    "from sklearn.decomposition import PCA\n",
    "pca = PCA(n_components=4)\n",
    "principalComponents = pca.fit_transform(wine)\n",
    "principalDf = pd.DataFrame(data = principalComponents\n",
    "             , columns = ['principal component 1', 'principal component 2','principal component 3', 'principal component 4'])"
   ]
  },
  {
   "cell_type": "code",
   "execution_count": 79,
   "metadata": {},
   "outputs": [],
   "source": [
    "finalDf = pd.concat([principalDf])"
   ]
  },
  {
   "cell_type": "code",
   "execution_count": 80,
   "metadata": {},
   "outputs": [
    {
     "data": {
      "text/html": [
       "<div>\n",
       "<style scoped>\n",
       "    .dataframe tbody tr th:only-of-type {\n",
       "        vertical-align: middle;\n",
       "    }\n",
       "\n",
       "    .dataframe tbody tr th {\n",
       "        vertical-align: top;\n",
       "    }\n",
       "\n",
       "    .dataframe thead th {\n",
       "        text-align: right;\n",
       "    }\n",
       "</style>\n",
       "<table border=\"1\" class=\"dataframe\">\n",
       "  <thead>\n",
       "    <tr style=\"text-align: right;\">\n",
       "      <th></th>\n",
       "      <th>principal component 1</th>\n",
       "      <th>principal component 2</th>\n",
       "      <th>principal component 3</th>\n",
       "      <th>principal component 4</th>\n",
       "    </tr>\n",
       "  </thead>\n",
       "  <tbody>\n",
       "    <tr>\n",
       "      <th>0</th>\n",
       "      <td>-13.222027</td>\n",
       "      <td>-2.031922</td>\n",
       "      <td>-1.181235</td>\n",
       "      <td>-0.475642</td>\n",
       "    </tr>\n",
       "    <tr>\n",
       "      <th>1</th>\n",
       "      <td>22.040255</td>\n",
       "      <td>4.401791</td>\n",
       "      <td>-0.354991</td>\n",
       "      <td>-0.260239</td>\n",
       "    </tr>\n",
       "    <tr>\n",
       "      <th>2</th>\n",
       "      <td>7.165362</td>\n",
       "      <td>-2.508321</td>\n",
       "      <td>-0.624638</td>\n",
       "      <td>-0.275306</td>\n",
       "    </tr>\n",
       "    <tr>\n",
       "      <th>3</th>\n",
       "      <td>13.428369</td>\n",
       "      <td>-1.946032</td>\n",
       "      <td>2.650260</td>\n",
       "      <td>-1.561525</td>\n",
       "    </tr>\n",
       "    <tr>\n",
       "      <th>4</th>\n",
       "      <td>-13.222027</td>\n",
       "      <td>-2.031922</td>\n",
       "      <td>-1.181235</td>\n",
       "      <td>-0.475642</td>\n",
       "    </tr>\n",
       "  </tbody>\n",
       "</table>\n",
       "</div>"
      ],
      "text/plain": [
       "   principal component 1  principal component 2  principal component 3  \\\n",
       "0             -13.222027              -2.031922              -1.181235   \n",
       "1              22.040255               4.401791              -0.354991   \n",
       "2               7.165362              -2.508321              -0.624638   \n",
       "3              13.428369              -1.946032               2.650260   \n",
       "4             -13.222027              -2.031922              -1.181235   \n",
       "\n",
       "   principal component 4  \n",
       "0              -0.475642  \n",
       "1              -0.260239  \n",
       "2              -0.275306  \n",
       "3              -1.561525  \n",
       "4              -0.475642  "
      ]
     },
     "execution_count": 80,
     "metadata": {},
     "output_type": "execute_result"
    }
   ],
   "source": [
    "finalDf.head()"
   ]
  },
  {
   "cell_type": "code",
   "execution_count": null,
   "metadata": {},
   "outputs": [],
   "source": []
  }
 ],
 "metadata": {
  "kernelspec": {
   "display_name": "Python 3",
   "language": "python",
   "name": "python3"
  },
  "language_info": {
   "codemirror_mode": {
    "name": "ipython",
    "version": 3
   },
   "file_extension": ".py",
   "mimetype": "text/x-python",
   "name": "python",
   "nbconvert_exporter": "python",
   "pygments_lexer": "ipython3",
   "version": "3.7.2"
  }
 },
 "nbformat": 4,
 "nbformat_minor": 2
}
